{
 "cells": [
  {
   "cell_type": "code",
   "execution_count": 1,
   "metadata": {},
   "outputs": [],
   "source": [
    "# Run this cell but don't modify it.\n",
    "\n",
    "%load_ext autoreload\n",
    "%autoreload 2\n",
    "from matrix import Matrix, zeroes, identity"
   ]
  },
  {
   "cell_type": "code",
   "execution_count": 2,
   "metadata": {},
   "outputs": [
    {
     "name": "stdout",
     "output_type": "stream",
     "text": [
      "m1 is\n",
      "1  2 \n",
      "3  4 \n",
      "\n",
      "m2 is\n",
      "2  5 \n",
      "6  1 \n",
      "\n",
      "we've also provided you with a function called zeros\n",
      "here's what happens when you call zeros(4,2)\n",
      "0.0  0.0 \n",
      "0.0  0.0 \n",
      "0.0  0.0 \n",
      "0.0  0.0 \n",
      "\n",
      "we've also provided you with a function called identity\n",
      "here's identity(3)\n",
      "1.0  0.0  0.0 \n",
      "0.0  1.0  0.0 \n",
      "0.0  0.0  1.0 \n",
      "\n",
      "but not everything works yet!\n",
      "for example, matrix addition...\n",
      "run the cell below to see what happens when we try...\n"
     ]
    }
   ],
   "source": [
    "# some functionality already exists... here's a demo\n",
    "\n",
    "m1 = Matrix([\n",
    "    [1, 2],\n",
    "    [3, 4]\n",
    "])\n",
    "\n",
    "m2 = Matrix([\n",
    "    [2, 5],\n",
    "    [6, 1]\n",
    "])\n",
    "\n",
    "print(\"m1 is\")\n",
    "print(m1)\n",
    "\n",
    "print(\"m2 is\")\n",
    "print(m2)\n",
    "\n",
    "print(\"we've also provided you with a function called zeros\")\n",
    "print(\"here's what happens when you call zeros(4,2)\")\n",
    "print(zeroes(4,2))\n",
    "\n",
    "print(\"we've also provided you with a function called identity\")\n",
    "print(\"here's identity(3)\")\n",
    "print(identity(3))\n",
    "\n",
    "print(\"but not everything works yet!\")\n",
    "print(\"for example, matrix addition...\")\n",
    "print(\"run the cell below to see what happens when we try...\")"
   ]
  },
  {
   "cell_type": "code",
   "execution_count": 3,
   "metadata": {},
   "outputs": [
    {
     "name": "stdout",
     "output_type": "stream",
     "text": [
      "m1 = \n",
      " 1  2 \n",
      "3  4 \n",
      "\n",
      "m2 = \n",
      " 2  5 \n",
      "6  1 \n",
      "\n",
      "m3 = m1 * m2 \n",
      " 14  7 \n",
      "30  19 \n",
      "\n",
      "trace(m3) = \n",
      " 33\n",
      "det(m3) = \n",
      " 56\n",
      "m3's inverse = \n",
      " 0.3392857142857143  -0.125 \n",
      "-0.5357142857142857  0.25 \n",
      "\n",
      "m3's transpose = \n",
      " 14  30 \n",
      "7  19 \n",
      "\n",
      "m4 = -m3 = \n",
      " -14  -7 \n",
      "-30  -19 \n",
      "\n",
      "m5 = 2 * m3 = \n",
      " 28  14 \n",
      "60  38 \n",
      "\n",
      "m6 = m3 - m1 = \n",
      " 13  5 \n",
      "27  15 \n",
      "\n",
      "m7 = m3 + m2 = \n",
      " 16  12 \n",
      "36  20 \n",
      "\n"
     ]
    }
   ],
   "source": [
    "m1 = Matrix([\n",
    "    [1, 2],\n",
    "    [3, 4]\n",
    "])\n",
    "\n",
    "m2 = Matrix([\n",
    "    [2, 5],\n",
    "    [6, 1]\n",
    "])\n",
    "\n",
    "m3 = m1 * m2\n",
    "tracem3 = m3.trace()\n",
    "detm3 = m3.determinant()\n",
    "m3_i = m3.inverse()\n",
    "m3_T = m3.T()\n",
    "m4 = -m3\n",
    "m5 = 2 * m3\n",
    "m6 = m3 - m1\n",
    "m7 = m3 + m2\n",
    "\n",
    "print(\"m1 = \\n\", m1)\n",
    "print(\"m2 = \\n\", m2)\n",
    "print(\"m3 = m1 * m2 \\n\", m3)\n",
    "print(\"trace(m3) = \\n\", tracem3)\n",
    "print(\"det(m3) = \\n\", detm3)\n",
    "print(\"m3's inverse = \\n\", m3_i)\n",
    "print(\"m3's transpose = \\n\", m3_T)\n",
    "print(\"m4 = -m3 = \\n\", m4)\n",
    "print(\"m5 = 2 * m3 = \\n\", m5)\n",
    "print(\"m6 = m3 - m1 = \\n\", m6)\n",
    "print(\"m7 = m3 + m2 = \\n\", m7)"
   ]
  },
  {
   "cell_type": "code",
   "execution_count": 4,
   "metadata": {},
   "outputs": [
    {
     "name": "stdout",
     "output_type": "stream",
     "text": [
      "Congratulations! All tests pass. Your Matrix class is working as expected.\n"
     ]
    }
   ],
   "source": [
    "# Try running this code. You should get an assertion error. \n",
    "# You will continue to get assertion errors until all the \n",
    "# methods in matrix.py are correctly implemented.\n",
    "\n",
    "# You can open matrix.py by selecting File > Open... \n",
    "# and then selecting matrix.py\n",
    "\n",
    "import test"
   ]
  },
  {
   "cell_type": "code",
   "execution_count": 5,
   "metadata": {},
   "outputs": [],
   "source": [
    "# open matrix.py (File > Open...) and start\n",
    "# implementing matrix methods! \n",
    "\n",
    "# when your code passes all the tests you can submit by \n",
    "# pressing the SUBMIT button in the lower right corner \n",
    "# of this page."
   ]
  },
  {
   "cell_type": "code",
   "execution_count": null,
   "metadata": {},
   "outputs": [],
   "source": []
  }
 ],
 "metadata": {
  "kernelspec": {
   "display_name": "Python 3",
   "language": "python",
   "name": "python3"
  },
  "language_info": {
   "codemirror_mode": {
    "name": "ipython",
    "version": 3
   },
   "file_extension": ".py",
   "mimetype": "text/x-python",
   "name": "python",
   "nbconvert_exporter": "python",
   "pygments_lexer": "ipython3",
   "version": "3.6.3"
  }
 },
 "nbformat": 4,
 "nbformat_minor": 2
}
