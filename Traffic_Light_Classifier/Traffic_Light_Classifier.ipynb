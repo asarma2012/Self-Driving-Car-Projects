{
 "cells": [
  {
   "cell_type": "markdown",
   "metadata": {},
   "source": [
    "# Traffic Light Classifier\n",
    "---\n",
    "\n",
    "In this project, you’ll use your knowledge of computer vision techniques to build a classifier for images of traffic lights! You'll be given a dataset of traffic light images in which one of three lights is illuminated: red, yellow, or green.\n",
    "\n",
    "In this notebook, you'll pre-process these images, extract features that will help us distinguish the different types of images, and use those features to classify the traffic light images into three classes: red, yellow, or green. The tasks will be broken down into a few sections:\n",
    "\n",
    "1. **Loading and visualizing the data**. \n",
    "      The first step in any classification task is to be familiar with your data; you'll need to load in the images of traffic lights and visualize them!\n",
    "\n",
    "2. **Pre-processing**. \n",
    "    The input images and output labels need to be standardized. This way, you can analyze all the input images using the same classification pipeline, and you know what output to expect when you eventually classify a *new* image.\n",
    "    \n",
    "3. **Feature extraction**. \n",
    "    Next, you'll extract some features from each image that will help distinguish and eventually classify these images.\n",
    "   \n",
    "4. **Classification and visualizing error**. \n",
    "    Finally, you'll write one function that uses your features to classify *any* traffic light image. This function will take in an image and output a label. You'll also be given code to determine the accuracy of your classification model.    \n",
    "    \n",
    "5. **Evaluate your model**.\n",
    "    To pass this project, your classifier must be >90% accurate and never classify any red lights as green; it's likely that you'll need to improve the accuracy of your classifier by changing existing features or adding new features. I'd also encourage you to try to get as close to 100% accuracy as possible!\n",
    "    \n",
    "Here are some sample images from the dataset (from left to right: red, green, and yellow traffic lights):\n",
    "<img src=\"images/all_lights.png\" width=\"50%\" height=\"50%\">\n"
   ]
  },
  {
   "cell_type": "markdown",
   "metadata": {},
   "source": [
    "---\n",
    "### *Here's what you need to know to complete the project:*\n",
    "\n",
    "Some template code has already been provided for you, but you'll need to implement additional code steps to successfully complete this project. Any code that is required to pass this project is marked with **'(IMPLEMENTATION)'** in the header. There are also a couple of questions about your thoughts as you work through this project, which are marked with **'(QUESTION)'** in the header. Make sure to answer all questions and to check your work against the [project rubric](https://review.udacity.com/#!/rubrics/1213/view) to make sure you complete the necessary classification steps!\n",
    "\n",
    "Your project submission will be evaluated based on the code implementations you provide, and on two main classification criteria.\n",
    "Your complete traffic light classifier should have:\n",
    "1. **Greater than 90% accuracy**\n",
    "2. ***Never* classify red lights as green**\n"
   ]
  },
  {
   "cell_type": "markdown",
   "metadata": {},
   "source": [
    "# 1. Loading and Visualizing the Traffic Light Dataset\n",
    "\n",
    "This traffic light dataset consists of 1484 number of color images in 3 categories - red, yellow, and green. As with most human-sourced data, the data is not evenly distributed among the types. There are:\n",
    "* 904 red traffic light images\n",
    "* 536 green traffic light images\n",
    "* 44 yellow traffic light images\n",
    "\n",
    "*Note: All images come from this [MIT self-driving car course](https://selfdrivingcars.mit.edu/) and are licensed under a [Creative Commons Attribution-ShareAlike 4.0 International License](https://creativecommons.org/licenses/by-sa/4.0/).*"
   ]
  },
  {
   "cell_type": "markdown",
   "metadata": {},
   "source": [
    "### Import resources\n",
    "\n",
    "Before you get started on the project code, import the libraries and resources that you'll need."
   ]
  },
  {
   "cell_type": "code",
   "execution_count": 1,
   "metadata": {},
   "outputs": [],
   "source": [
    "import cv2 # computer vision library\n",
    "import helpers # helper functions\n",
    "\n",
    "import random\n",
    "import numpy as np\n",
    "import matplotlib.pyplot as plt\n",
    "import matplotlib.image as mpimg # for loading in images\n",
    "\n",
    "%matplotlib inline"
   ]
  },
  {
   "cell_type": "markdown",
   "metadata": {},
   "source": [
    "## Training and Testing Data\n",
    "\n",
    "All 1484 of the traffic light images are separated into training and testing datasets. \n",
    "\n",
    "* 80% of these images are training images, for you to use as you create a classifier.\n",
    "* 20% are test images, which will be used to test the accuracy of your classifier.\n",
    "* All images are pictures of 3-light traffic lights with one light illuminated.\n",
    "\n",
    "## Define the image directories\n",
    "\n",
    "First, we set some variables to keep track of some where our images are stored:\n",
    "\n",
    "    IMAGE_DIR_TRAINING: the directory where our training image data is stored\n",
    "    IMAGE_DIR_TEST: the directory where our test image data is stored"
   ]
  },
  {
   "cell_type": "code",
   "execution_count": 2,
   "metadata": {},
   "outputs": [],
   "source": [
    "# Image data directories\n",
    "IMAGE_DIR_TRAINING = \"traffic_light_images/training/\"\n",
    "IMAGE_DIR_TEST = \"traffic_light_images/test/\""
   ]
  },
  {
   "cell_type": "markdown",
   "metadata": {},
   "source": [
    "## Load the datasets\n",
    "\n",
    "These first few lines of code will load the training traffic light images and store all of them in a variable, `IMAGE_LIST`. This list contains the images and their associated label (\"red\", \"yellow\", \"green\"). \n",
    "\n",
    "You are encouraged to take a look at the `load_dataset` function in the helpers.py file. This will give you a good idea about how lots of image files can be read in from a directory using the [glob library](https://pymotw.com/2/glob/). The `load_dataset` function takes in the name of an image directory and returns a list of images and their associated labels. \n",
    "\n",
    "For example, the first image-label pair in `IMAGE_LIST` can be accessed by index: \n",
    "``` IMAGE_LIST[0][:]```.\n"
   ]
  },
  {
   "cell_type": "code",
   "execution_count": 3,
   "metadata": {},
   "outputs": [
    {
     "data": {
      "text/plain": [
       "1187"
      ]
     },
     "execution_count": 3,
     "metadata": {},
     "output_type": "execute_result"
    }
   ],
   "source": [
    "# Using the load_dataset function in helpers.py\n",
    "# Load training data\n",
    "IMAGE_LIST = helpers.load_dataset(IMAGE_DIR_TRAINING)\n",
    "len(IMAGE_LIST)"
   ]
  },
  {
   "cell_type": "markdown",
   "metadata": {},
   "source": [
    "## Visualize the Data\n",
    "\n",
    "The first steps in analyzing any dataset are to 1. load the data and 2. look at the data. Seeing what it looks like will give you an idea of what to look for in the images, what kind of noise or inconsistencies you have to deal with, and so on. This will help you understand the image dataset, and **understanding a dataset is part of making predictions about the data**."
   ]
  },
  {
   "cell_type": "markdown",
   "metadata": {},
   "source": [
    "---\n",
    "### Visualize the input images\n",
    "\n",
    "Visualize and explore the image data! Write code to display an image in `IMAGE_LIST`:\n",
    "* Display the image\n",
    "* Print out the shape of the image \n",
    "* Print out its corresponding label\n",
    "\n",
    "See if you can display at least one of each type of traffic light image – red, green, and yellow — and look at their similarities and differences."
   ]
  },
  {
   "cell_type": "code",
   "execution_count": 4,
   "metadata": {},
   "outputs": [],
   "source": [
    "def display_image(index):\n",
    "    image = IMAGE_LIST[index]\n",
    "    grid,label = image\n",
    "    print(\"Image shape: {}; Color: {}\".format(grid.shape, label))\n",
    "    plt.imshow(grid)"
   ]
  },
  {
   "cell_type": "code",
   "execution_count": 5,
   "metadata": {},
   "outputs": [
    {
     "name": "stdout",
     "output_type": "stream",
     "text": [
      "Image shape: (40, 22, 3); Color: red\n"
     ]
    },
    {
     "data": {
      "image/png": "[encoded data removed]",
      "text/plain": [
       "<matplotlib.figure.Figure at 0x7ff4302fdc18>"
      ]
     },
     "metadata": {
      "needs_background": "light"
     },
     "output_type": "display_data"
    }
   ],
   "source": [
    "display_image(650) #red image"
   ]
  },
  {
   "cell_type": "code",
   "execution_count": 6,
   "metadata": {},
   "outputs": [
    {
     "name": "stdout",
     "output_type": "stream",
     "text": [
      "Image shape: (78, 51, 3); Color: yellow\n"
     ]
    },
    {
     "data": {
      "image/png": "[encoded data removed]",
      "text/plain": [
       "<matplotlib.figure.Figure at 0x7ff3fe566fd0>"
      ]
     },
     "metadata": {
      "needs_background": "light"
     },
     "output_type": "display_data"
    }
   ],
   "source": [
    "display_image(750) #yellow image"
   ]
  },
  {
   "cell_type": "code",
   "execution_count": 7,
   "metadata": {},
   "outputs": [
    {
     "name": "stdout",
     "output_type": "stream",
     "text": [
      "Image shape: (87, 38, 3); Color: green\n"
     ]
    },
    {
     "data": {
      "image/png": "[encoded data removed]",
      "text/plain": [
       "<matplotlib.figure.Figure at 0x7ff3fe4dd2b0>"
      ]
     },
     "metadata": {
      "needs_background": "light"
     },
     "output_type": "display_data"
    }
   ],
   "source": [
    "display_image(800) #green image"
   ]
  },
  {
   "cell_type": "code",
   "execution_count": 8,
   "metadata": {},
   "outputs": [],
   "source": [
    "'''These set of functions help with observing all the images'''\n",
    "\n",
    "#Displays all images with rgb format as default\n",
    "def display_images(LIST, image_type='rgb'):\n",
    "    if image_type == 'hsv': \n",
    "        display_hsv(LIST)\n",
    "    else:\n",
    "        display_rgb(LIST)\n",
    "\n",
    "# display rgb images\n",
    "def display_rgb(LIST):\n",
    "    for i,image in enumerate(LIST):\n",
    "        grid, label = image\n",
    "        height,width,depth = grid.shape\n",
    "        plt.figure()\n",
    "        plt.imshow(grid)\n",
    "        plt.title(\"Image #{}, Color: {}, {}x{}x{}\".format(i,str(label),height,width,depth))    \n",
    "\n",
    "\n",
    "#display hsv images\n",
    "def display_hsv(LIST):\n",
    "    for i,image in enumerate(LIST):\n",
    "        grid,label = image\n",
    "        \n",
    "        # Convert to HSV\n",
    "        hsv = cv2.cvtColor(grid, cv2.COLOR_RGB2HSV)\n",
    "        \n",
    "        # HSV channels\n",
    "        h = hsv[:,:,0]\n",
    "        s = hsv[:,:,1]\n",
    "        v = hsv[:,:,2]\n",
    "        \n",
    "        # Plot the original image and the three channels\n",
    "        f, (ax1, ax2, ax3, ax4) = plt.subplots(1, 4, figsize=(20,10))\n",
    "        ax1.set_title('Standardized Image #{}, Color: {}'.format(i, str(label)))\n",
    "        ax1.imshow(grid)\n",
    "        ax2.set_title('Image #{} H channel'.format(i))\n",
    "        ax2.imshow(h, cmap='gray')\n",
    "        ax3.set_title('Image #{} S channel'.format(i))\n",
    "        ax3.imshow(s, cmap='gray')\n",
    "        ax4.set_title('Image #{} V channel'.format(i))\n",
    "        ax4.imshow(v, cmap='gray')\n",
    "    plt.show()\n",
    "    \n",
    "    \n",
    "# if the label is an array, convert it to a string\n",
    "\n",
    "traffic_light_one_hot_encoder = {\n",
    "    \"red\"   :[1,0,0],\n",
    "    \"yellow\":[0,1,0],\n",
    "    \"green\" :[0,0,1]\n",
    "}\n",
    "\n"
   ]
  },
  {
   "cell_type": "code",
   "execution_count": 9,
   "metadata": {},
   "outputs": [
    {
     "data": {
      "text/plain": [
       "' Observations of the original traffic light images\\n\\n1. Traffic lights have red, yellow, and green positioned at top, middle, and bottom respectively\\n2. Traffic light pics are different sizes, thus all of them need to be resized to the same height and width\\n3. May have to filter/crop out portions of the area surrounding the traffic light as that is extra noise for the image data\\n\\n'"
      ]
     },
     "execution_count": 9,
     "metadata": {},
     "output_type": "execute_result"
    }
   ],
   "source": [
    "#display_images(IMAGE_LIST) #Here, the original images are being displayed. Each image has a title containing the color label and the image size\n",
    "''' Observations of the original traffic light images\n",
    "\n",
    "1. Traffic lights have red, yellow, and green positioned at top, middle, and bottom respectively\n",
    "2. Traffic light pics are different sizes, thus all of them need to be resized to the same height and width\n",
    "3. May have to filter/crop out portions of the area surrounding the traffic light as that is extra noise for the image data\n",
    "\n",
    "'''"
   ]
  },
  {
   "cell_type": "markdown",
   "metadata": {},
   "source": [
    "# 2. Pre-process the Data\n",
    "\n",
    "After loading in each image, you have to standardize the input and output!\n",
    "\n",
    "### Input\n",
    "\n",
    "This means that every input image should be in the same format, of the same size, and so on. We'll be creating features by performing the same analysis on every picture, and for a classification task like this, it's important that **similar images create similar features**! \n",
    "\n",
    "### Output\n",
    "\n",
    "We also need the output to be a label that is easy to read and easy to compare with other labels. It is good practice to convert categorical data like \"red\" and \"green\" to numerical data.\n",
    "\n",
    "A very common classification output is a 1D list that is the length of the number of classes - three in the case of red, yellow, and green lights - with the values 0 or 1 indicating which class a certain image is. For example, since we have three classes (red, yellow, and green), we can make a list with the order: [red value, yellow value, green value]. In general, order does not matter, we choose the order [red value, yellow value, green value] in this case to reflect the position of each light in descending vertical order.\n",
    "\n",
    "A red light should have the  label: [1, 0, 0]. Yellow should be: [0, 1, 0]. Green should be: [0, 0, 1]. These labels are called **one-hot encoded labels**.\n",
    "\n",
    "*(Note: one-hot encoding will be especially important when you work with [machine learning algorithms](https://machinelearningmastery.com/how-to-one-hot-encode-sequence-data-in-python/)).*\n",
    "\n",
    "<img src=\"images/processing_steps.png\" width=\"80%\" height=\"80%\">\n"
   ]
  },
  {
   "cell_type": "markdown",
   "metadata": {},
   "source": [
    "---\n",
    "<a id='task2'></a>\n",
    "### (IMPLEMENTATION): Standardize the input images\n",
    "\n",
    "* Resize each image to the desired input size: 32x32px.\n",
    "* (Optional) You may choose to crop, shift, or rotate the images in this step as well.\n",
    "\n",
    "It's very common to have square input sizes that can be rotated (and remain the same size), and analyzed in smaller, square patches. It's also important to make all your images the same size so that they can be sent through the same pipeline of classification steps!"
   ]
  },
  {
   "cell_type": "code",
   "execution_count": 10,
   "metadata": {},
   "outputs": [],
   "source": [
    "# This function should take in an RGB image and return a new, standardized version\n",
    "def standardize_input(image):\n",
    "    standard_im = np.copy(image)\n",
    "    standard_im = cv2.resize(standard_im, (32,32)) #resize image first\n",
    "    standard_im = standard_im[3:30, 5:25] #crop image to remove as many background pixels as those are just noise\n",
    "    return cv2.resize(standard_im, (32,32)) # resize image again\n",
    "    "
   ]
  },
  {
   "cell_type": "markdown",
   "metadata": {},
   "source": [
    "## Standardize the output\n",
    "\n",
    "With each loaded image, we also specify the expected output. For this, we use **one-hot encoding**.\n",
    "\n",
    "* One-hot encode the labels. To do this, create an array of zeros representing each class of traffic light (red, yellow, green), and set the index of the expected class number to 1. \n",
    "\n",
    "Since we have three classes (red, yellow, and green), we have imposed an order of: [red value, yellow value, green value]. To one-hot encode, say, a yellow light, we would first initialize an array to [0, 0, 0] and change the middle value (the yellow value) to 1: [0, 1, 0].\n"
   ]
  },
  {
   "cell_type": "markdown",
   "metadata": {},
   "source": [
    "---\n",
    "<a id='task3'></a>\n",
    "### (IMPLEMENTATION): Implement one-hot encoding"
   ]
  },
  {
   "cell_type": "code",
   "execution_count": 11,
   "metadata": {},
   "outputs": [],
   "source": [
    "## Given a label - \"red\", \"green\", or \"yellow\" - return a one-hot encoded label\n",
    "\n",
    "# Examples: \n",
    "# one_hot_encode(\"red\") should return: [1, 0, 0]\n",
    "# one_hot_encode(\"yellow\") should return: [0, 1, 0]\n",
    "# one_hot_encode(\"green\") should return: [0, 0, 1]\n",
    "\n",
    "def one_hot_encode(label):\n",
    "    return traffic_light_one_hot_encoder[label]\n"
   ]
  },
  {
   "cell_type": "markdown",
   "metadata": {},
   "source": [
    "### Testing as you Code\n",
    "\n",
    "After programming a function like this, it's a good idea to test it, and see if it produces the expected output. **In general, it's good practice to test code in small, functional pieces, after you write it**. This way, you can make sure that your code is correct as you continue to build a classifier, and you can identify any errors early on so that they don't compound.\n",
    "\n",
    "All test code can be found in the file `test_functions.py`. You are encouraged to look through that code and add your own testing code if you find it useful!\n",
    "\n",
    "One test function you'll find is: `test_one_hot(self, one_hot_function)` which takes in one argument, a one_hot_encode function, and tests its functionality. If your one_hot_label code does not work as expected, this test will print ot an error message that will tell you a bit about why your code failed. Once your code works, this should print out TEST PASSED."
   ]
  },
  {
   "cell_type": "code",
   "execution_count": 12,
   "metadata": {},
   "outputs": [
    {
     "data": {
      "text/markdown": [
       "**<span style=\"color: green;\">TEST PASSED</span>**"
      ],
      "text/plain": [
       "<IPython.core.display.Markdown object>"
      ]
     },
     "metadata": {},
     "output_type": "display_data"
    }
   ],
   "source": [
    "# Importing the tests\n",
    "import test_functions\n",
    "tests = test_functions.Tests()\n",
    "\n",
    "# Test for one_hot_encode function\n",
    "tests.test_one_hot(one_hot_encode)\n"
   ]
  },
  {
   "cell_type": "markdown",
   "metadata": {},
   "source": [
    "## Construct a `STANDARDIZED_LIST` of input images and output labels.\n",
    "\n",
    "This function takes in a list of image-label pairs and outputs a **standardized** list of resized images and one-hot encoded labels.\n",
    "\n",
    "This uses the functions you defined above to standardize the input and output, so those functions must be complete for this standardization to work!\n"
   ]
  },
  {
   "cell_type": "code",
   "execution_count": 13,
   "metadata": {},
   "outputs": [],
   "source": [
    "def standardize(image_list):\n",
    "    \n",
    "    # Empty image data array\n",
    "    standard_list = []\n",
    "\n",
    "    # Iterate through all the image-label pairs\n",
    "    for image in image_list:\n",
    "        grid, label = image\n",
    "\n",
    "        # Standardize the image\n",
    "        standardized_im = standardize_input(grid)\n",
    "\n",
    "        # One-hot encode the label\n",
    "        one_hot_label = one_hot_encode(label)    \n",
    "\n",
    "        # Append the image, and it's one hot encoded label to the full, processed list of image data \n",
    "        standard_list.append((standardized_im, one_hot_label))\n",
    "        \n",
    "    return standard_list\n",
    "\n",
    "# Standardize all training images\n",
    "STANDARDIZED_LIST = standardize(IMAGE_LIST)"
   ]
  },
  {
   "cell_type": "markdown",
   "metadata": {},
   "source": [
    "## Visualize the standardized data\n",
    "\n",
    "Display a standardized image from STANDARDIZED_LIST and compare it with a non-standardized image from IMAGE_LIST. Note that their sizes and appearance are different!"
   ]
  },
  {
   "cell_type": "code",
   "execution_count": 14,
   "metadata": {},
   "outputs": [
    {
     "name": "stdout",
     "output_type": "stream",
     "text": [
      "(32, 32, 3)\n",
      "[0, 0, 1]\n"
     ]
    },
    {
     "data": {
      "image/png": "[encoded data removed]",
      "text/plain": [
       "<matplotlib.figure.Figure at 0x7ff3fe4e3c18>"
      ]
     },
     "metadata": {
      "needs_background": "light"
     },
     "output_type": "display_data"
    }
   ],
   "source": [
    "sample_image, sample_label = STANDARDIZED_LIST[807]\n",
    "plt.imshow(sample_image)\n",
    "print(sample_image.shape)\n",
    "print(sample_label)"
   ]
  },
  {
   "cell_type": "markdown",
   "metadata": {},
   "source": [
    "# 3. Feature Extraction\n",
    "\n",
    "You'll be using what you now about color spaces, shape analysis, and feature construction to create features that help distinguish and classify the three types of traffic light images.\n",
    "\n",
    "You'll be tasked with creating **one feature** at a minimum (with the option to create more). The required feature is **a brightness feature using HSV color space**:\n",
    "\n",
    "1. A brightness feature.\n",
    "    - Using HSV color space, create a feature that helps you identify the 3 different classes of traffic light.\n",
    "    - You'll be asked some questions about what methods you tried to locate this traffic light, so, as you progress through this notebook, always be thinking about your approach: what works and what doesn't?\n",
    "\n",
    "2. (Optional): Create more features! \n",
    "\n",
    "Any more features that you create are up to you and should improve the accuracy of your traffic light classification algorithm! One thing to note is that, to pass this project you must **never classify a red light as a green light** because this creates a serious safety risk for a self-driving car. To avoid this misclassification, you might consider adding another feature that specifically distinguishes between red and green lights.\n",
    "\n",
    "These features will be combined near the end of his notebook to form a complete classification algorithm."
   ]
  },
  {
   "cell_type": "markdown",
   "metadata": {},
   "source": [
    "## Creating a brightness feature \n",
    "\n",
    "There are a number of ways to create a brightness feature that will help you characterize images of traffic lights, and it will be up to you to decide on the best procedure to complete this step. You should visualize and test your code as you go.\n",
    "\n",
    "Pictured below is a sample pipeline for creating a brightness feature (from left to right: standardized image, HSV color-masked image, cropped image, brightness feature):\n",
    "\n",
    "<img src=\"images/feature_ext_steps.png\" width=\"70%\" height=\"70%\">\n"
   ]
  },
  {
   "cell_type": "markdown",
   "metadata": {},
   "source": [
    "## RGB to HSV conversion\n",
    "\n",
    "Below, a test image is converted from RGB to HSV colorspace and each component is displayed in an image."
   ]
  },
  {
   "cell_type": "code",
   "execution_count": 15,
   "metadata": {
    "scrolled": true
   },
   "outputs": [
    {
     "name": "stdout",
     "output_type": "stream",
     "text": [
      "Label [red, yellow, green]: [1, 0, 0]\n",
      "[233 232 231 232 233 234 235 234 228 219 211 212 212 213 214 215 216 216\n",
      " 217 217 217 217 216 216 215 215 216 217 218 219 220 221]\n",
      "[233 233 233 236 238 239 237 232 223 211 200 204 209 214 215 216 218 220\n",
      " 222 222 222 222 222 221 220 220 221 222 223 223 223 222]\n",
      "[236 237 238 239 239 239 235 231 222 211 202 207 214 220 221 223 224 226\n",
      " 228 228 228 227 226 224 223 224 225 227 228 228 227 227]\n",
      "[227 228 229 230 229 228 226 223 218 212 208 214 220 226 229 231 233 234\n",
      " 235 235 233 232 231 230 230 231 233 234 235 235 233 231]\n",
      "[208 209 209 211 212 212 211 211 211 211 212 218 224 230 234 238 240 241\n",
      " 241 240 238 236 237 238 240 241 242 243 243 242 239 237]\n",
      "[200 200 200 201 202 202 202 203 206 209 212 218 223 229 235 241 244 244\n",
      " 243 242 241 240 241 242 244 246 247 247 247 247 244 242]\n",
      "[227 227 227 227 226 223 216 209 205 201 199 205 212 218 227 235 240 242\n",
      " 243 244 245 246 246 246 246 245 244 243 243 243 240 238]\n",
      "[238 238 239 241 241 238 230 221 211 201 192 197 201 206 211 217 222 225\n",
      " 227 230 232 234 233 232 231 230 229 228 226 223 220 217]\n",
      "[237 238 238 240 241 240 235 230 221 212 204 205 205 206 207 208 209 209\n",
      " 209 210 210 211 210 209 208 208 209 209 209 209 209 209]\n",
      "[235 235 235 237 237 237 236 235 231 226 222 221 221 220 219 218 215 211\n",
      " 207 204 200 198 196 194 192 195 198 202 206 211 216 220]\n",
      "[235 235 235 236 236 237 236 236 233 231 228 229 230 231 229 226 222 216\n",
      " 209 203 197 192 190 188 187 190 193 198 204 212 220 226]\n",
      "[236 236 237 239 239 238 235 231 226 220 215 217 218 220 218 215 212 207\n",
      " 202 196 192 188 187 187 187 188 190 193 196 200 206 210]\n",
      "[232 233 234 239 240 238 229 220 209 198 187 190 193 196 196 195 194 192\n",
      " 191 189 188 187 186 186 186 186 187 188 189 191 193 195]\n",
      "[232 232 233 235 234 229 217 205 194 183 173 178 183 188 188 189 189 188\n",
      " 187 186 186 184 185 185 186 187 188 189 190 191 191 190]\n",
      "[218 218 219 217 214 209 200 191 185 179 174 177 179 182 183 184 184 184\n",
      " 183 183 183 183 183 183 183 183 184 186 186 186 186 185]\n",
      "[202 202 201 198 194 189 183 179 178 179 179 179 179 179 180 182 183 183\n",
      " 183 182 182 182 182 181 181 181 182 183 183 183 182 182]\n",
      "[208 208 207 204 199 193 183 176 175 175 176 177 178 179 181 183 184 183\n",
      " 183 183 183 183 182 181 179 179 180 180 180 180 180 180]\n",
      "[230 230 230 230 226 217 199 183 174 168 165 170 175 179 181 183 183 183\n",
      " 182 183 183 184 182 180 178 178 178 178 178 178 178 178]\n",
      "[237 238 240 243 240 230 209 189 176 166 159 165 172 179 181 182 183 182\n",
      " 181 180 180 180 179 179 178 178 178 178 178 177 176 176]\n",
      "[234 235 237 242 241 234 215 196 182 171 162 167 172 177 180 181 182 181\n",
      " 180 179 178 177 177 177 176 177 179 180 179 178 176 175]\n",
      "[236 236 237 243 242 235 216 197 182 170 160 165 170 176 177 179 179 179\n",
      " 179 179 178 178 177 177 176 177 177 177 177 176 175 174]\n",
      "[237 237 238 243 242 233 214 195 181 168 159 165 171 177 178 178 178 178\n",
      " 178 178 178 178 177 177 177 177 178 178 177 178 176 175]\n",
      "[236 237 239 244 242 233 213 193 180 168 159 166 172 178 178 177 176 176\n",
      " 176 176 176 177 177 177 177 177 178 178 179 180 178 176]\n",
      "[236 237 239 244 242 233 212 192 179 169 161 167 173 178 178 176 175 174\n",
      " 174 175 175 177 177 177 178 178 177 178 179 182 180 178]\n",
      "[235 236 238 243 241 232 210 189 178 169 164 170 176 180 179 176 174 173\n",
      " 173 174 176 177 177 177 177 176 175 176 178 181 179 178]\n",
      "[234 236 238 244 241 230 204 181 172 168 166 171 176 180 178 175 174 173\n",
      " 174 175 176 176 175 175 174 173 173 173 175 179 178 178]\n",
      "[234 235 238 243 239 228 203 181 173 169 168 172 176 179 178 177 177 176\n",
      " 175 175 177 178 177 176 175 174 173 173 175 179 179 180]\n",
      "[233 234 236 241 238 227 200 179 171 168 168 171 173 175 175 176 176 176\n",
      " 175 176 178 179 179 178 177 175 174 174 174 175 176 176]\n",
      "[235 235 236 241 237 225 200 179 171 169 169 171 173 174 175 176 176 176\n",
      " 176 177 179 181 180 180 179 178 178 176 175 174 173 173]\n",
      "[236 236 236 238 234 223 201 182 174 172 171 172 174 176 176 176 176 176\n",
      " 177 178 179 180 180 180 180 179 179 178 176 174 173 174]\n",
      "[236 236 236 236 231 221 204 189 182 178 175 176 178 180 180 179 179 178\n",
      " 178 178 178 178 179 179 179 179 178 177 176 174 177 179]\n",
      "[236 236 237 235 231 223 212 201 194 189 185 186 187 189 188 187 185 184\n",
      " 183 181 181 180 180 181 181 180 180 179 179 179 183 187]\n"
     ]
    },
    {
     "data": {
      "image/png": "[encoded data removed]",
      "text/plain": [
       "<matplotlib.figure.Figure at 0x7ff3fe402400>"
      ]
     },
     "metadata": {
      "needs_background": "light"
     },
     "output_type": "display_data"
    }
   ],
   "source": [
    "# Convert and image to HSV colorspace\n",
    "# Visualize the individual color channels\n",
    "\n",
    "def study_image(image_num):\n",
    "    test_im, test_label = STANDARDIZED_LIST[image_num]\n",
    "    #test_label = STANDARDIZED_LIST[image_num][1]\n",
    "    \n",
    "    # Convert to HSV\n",
    "    hsv = cv2.cvtColor(test_im, cv2.COLOR_RGB2HSV)\n",
    "    \n",
    "    # Print image label\n",
    "    print('Label [red, yellow, green]: ' + str(test_label))\n",
    "    \n",
    "    # HSV channels\n",
    "    h = hsv[:,:,0]\n",
    "    s = hsv[:,:,1]\n",
    "    v = hsv[:,:,2]\n",
    "    \n",
    "    # Plot the original image and the three channels\n",
    "    f, (ax1, ax2, ax3, ax4) = plt.subplots(1, 4, figsize=(20,10))\n",
    "    ax1.set_title('Standardized image')\n",
    "    ax1.imshow(test_im)\n",
    "    ax2.set_title('H channel')\n",
    "    ax2.imshow(h, cmap='gray')\n",
    "    ax3.set_title('S channel')\n",
    "    ax3.imshow(s, cmap='gray')\n",
    "    ax4.set_title('V channel')\n",
    "    ax4.imshow(v, cmap='gray')\n",
    "    for row in v:\n",
    "        print(row)\n",
    "study_image(50)"
   ]
  },
  {
   "cell_type": "code",
   "execution_count": 16,
   "metadata": {
    "scrolled": false
   },
   "outputs": [],
   "source": [
    "#display_images(STANDARDIZED_LIST, 'hsv') #display all images in RGB as well as in HSV format"
   ]
  },
  {
   "cell_type": "markdown",
   "metadata": {},
   "source": [
    "---\n",
    "<a id='task7'></a>\n",
    "### (IMPLEMENTATION): Create a brightness feature that uses HSV color space\n",
    "\n",
    "Write a function that takes in an RGB image and returns a 1D feature vector and/or single value that will help classify an image of a traffic light. The only requirement is that this function should apply an HSV colorspace transformation, the rest is up to you. \n",
    "\n",
    "From this feature, you should be able to estimate an image's label and classify it as either a red, green, or yellow traffic light. You may also define helper functions if they simplify your code."
   ]
  },
  {
   "cell_type": "code",
   "execution_count": 17,
   "metadata": {},
   "outputs": [],
   "source": [
    "## Create a brightness feature that takes in an RGB image and outputs a feature vector and/or value\n",
    "## This feature should use HSV colorspace values\n",
    "from queue import PriorityQueue\n",
    "ranges_HSV = {\n",
    "    0: (0,179),\n",
    "    1: (0,255),\n",
    "    2: (0,255)\n",
    "}\n",
    "\n",
    "channel = {\n",
    "    'h':0,\n",
    "    's':1,\n",
    "    'v':2\n",
    "}\n",
    "\n",
    "def create_feature(rgb_image):\n",
    "    hsv = cv2.cvtColor(rgb_image, cv2.COLOR_RGB2HSV)\n",
    "\n",
    "    ## Create and return a feature value and/or vector\n",
    "    feature = []\n",
    "    for ch in range(1,3): #Do this for H, S, and V channel\n",
    "        grid = hsv[:,:,ch]\n",
    "        feature.append(brightness(grid, ch))\n",
    "    return feature\n",
    "\n",
    "def get_brightness(rgb, ch):\n",
    "    hsv = cv2.cvtColor(rgb, cv2.COLOR_RGB2HSV)\n",
    "    G = np.copy(hsv[:,:,channel[ch]])\n",
    "    '''\n",
    "    plt.imshow(G, cmap='gray')\n",
    "    plt.title(\"Color: {}; Channel: {}\".format(label,ch))\n",
    "    \n",
    "    for row in G:\n",
    "        print(row)\n",
    "    \n",
    "    print(\"\\n\\nNormalized image data of channel {}\\n\".format(ch)) '''\n",
    "    norm_G = normalize(G,channel[ch])\n",
    "    brightness_data = brightness(norm_G)\n",
    "    brightness_values = sorted(list(brightness_data.values()))\n",
    "    brightness_data_sum = np.sum(brightness_values)\n",
    "    diffs = np.diff(brightness_values)\n",
    "    guess = classify(brightness_data)\n",
    "    confidence = 100 * brightness_data[guess]/brightness_data_sum\n",
    "    if diffs[1]/diffs[0] > 1 and confidence >= 35:\n",
    "        brightness_data['sum'] = brightness_data_sum\n",
    "        brightness_data['guess'] = (guess,np.round(confidence,2))\n",
    "        return brightness_data\n",
    "    '''\n",
    "    for row in norm_G:\n",
    "        print(row)\n",
    "    print('\\n')'''\n",
    "    avg = np.mean(norm_G)\n",
    "    stddev = np.std(norm_G)\n",
    "    m = np.min(norm_G)\n",
    "    M = np.max(norm_G)\n",
    "    #print(avg, stddev, m, M)\n",
    "    \n",
    "    #print('\\n\\n')\n",
    "    norm_con_fil_G = contrast_filter(norm_G, avg, stddev, m, M)\n",
    "    \n",
    "    '''\n",
    "    for row in norm_con_fil_G:\n",
    "        print(row)\n",
    "    print('\\n\\n')'''\n",
    "    brightness_data = brightness(norm_con_fil_G)\n",
    "    brightness_values = sorted(list(brightness_data.values()))\n",
    "    brightness_data_sum = np.sum(brightness_values) \n",
    "    guess = classify(brightness_data)\n",
    "    if brightness_data[guess] == 0: \n",
    "        confidence = 0\n",
    "    else: \n",
    "        confidence = 100 * brightness_data[guess]/brightness_data_sum\n",
    "    brightness_data['sum'] = brightness_data_sum\n",
    "    brightness_data['guess'] = (guess,np.round(confidence,2))\n",
    "    return brightness_data\n",
    "\n",
    "def brightness(grid):\n",
    "    copygrid = np.copy(grid)\n",
    "    measurement = {}\n",
    "    measurement['red']    = np.sum(copygrid[1:11,5:27])\n",
    "    measurement['yellow'] = np.sum(copygrid[11:21,5:27])\n",
    "    measurement['green']  = np.sum(copygrid[21:31,5:27])\n",
    "    return measurement\n",
    "\n",
    "def normalize(grid, ch):\n",
    "    copygrid = np.copy(grid)\n",
    "    m,M = ranges_HSV[ch]\n",
    "    rows,cols = copygrid.shape\n",
    "    for r in range(rows):\n",
    "        for c in range(cols):\n",
    "            copygrid[r][c] = 100 * (copygrid[r][c]-m)/(M-m)\n",
    "    return copygrid\n",
    "\n",
    "def contrast_filter(grid, avg, stddev, m, M):\n",
    "    copygrid = np.copy(grid)\n",
    "    z_ratio = (M-avg)/(avg-m)\n",
    "    if z_ratio > 1:\n",
    "        threshold = avg + 1.7*stddev\n",
    "        return low_BPmask(copygrid, threshold)\n",
    "    else:\n",
    "        threshold = avg - 1.7*stddev\n",
    "        return high_BPmask(copygrid, threshold)\n",
    "\n",
    "def low_BPmask(grid, threshold):\n",
    "    copygrid = np.copy(grid)\n",
    "    rows,cols = copygrid.shape\n",
    "    for r in range(rows):\n",
    "        for c in range(cols):\n",
    "            if copygrid[r][c] < threshold: copygrid[r][c] = 0 \n",
    "    return copygrid\n",
    "\n",
    "def high_BPmask(grid, threshold):\n",
    "    copygrid = np.copy(grid)\n",
    "    rows,cols = copygrid.shape\n",
    "    for r in range(rows):\n",
    "        for c in range(cols):\n",
    "            if copygrid[r][c] > threshold: copygrid[r][c] = 0 \n",
    "    return copygrid\n",
    "\n",
    "def classify(feature):\n",
    "    pq = PriorityQueue()\n",
    "    for k,v in feature.items():\n",
    "        pq.put((v,k))\n",
    "    while not pq.empty():\n",
    "        v,label = pq.get()\n",
    "    return label"
   ]
  },
  {
   "cell_type": "markdown",
   "metadata": {
    "collapsed": true
   },
   "source": [
    "## (Optional) Create more features to help accurately label the traffic light images"
   ]
  },
  {
   "cell_type": "code",
   "execution_count": 18,
   "metadata": {},
   "outputs": [],
   "source": [
    "# (Optional) Add more image analysis and create more features\n",
    "#N/A"
   ]
  },
  {
   "cell_type": "markdown",
   "metadata": {},
   "source": [
    "## (QUESTION 1): How do the features you made help you distinguish between the 3 classes of traffic light images?"
   ]
  },
  {
   "cell_type": "markdown",
   "metadata": {},
   "source": [
    "**Answer:**\n",
    "Upon initial inspection, the S and V channels seem consistent and correlates well with the appropriate traffic light color based on the concentration and the location of the bright pixels. \n",
    "The value ranges for all the HSV channels are different. H Channel values have the range (0,179) while the S and V Channels both have the range (0,255). Thus, the values of the image grid for each channel must be normalized. \n",
    "However, some images' HSV channels show lots of noise which must be filtered out. If the overall average brightness of the image grid exceeds a threshold, then the image would be masked at the pixels that exceed the threshold.\n",
    "For each image, the average brightness would be computed for all three HSV channels at the top (red), middle (yellow), and bottom (green) sections. Then for each of the HSV channels, whichever section of the image - top, middle, bottom - has the highest average brightness, the color label would be predicted. Hence, each channel's average brightness is a feature. Whichever color - red, yellow, green - has the most predictions for that image would be the predicted label."
   ]
  },
  {
   "cell_type": "markdown",
   "metadata": {
    "collapsed": true
   },
   "source": [
    "# 4. Classification and Visualizing Error\n",
    "\n",
    "Using all of your features, write a function that takes in an RGB image and, using your extracted features, outputs whether a light is red, green or yellow as a one-hot encoded label. This classification function should be able to classify any image of a traffic light!\n",
    "\n",
    "You are encouraged to write any helper functions or visualization code that you may need, but for testing the accuracy, make sure that this `estimate_label` function returns a one-hot encoded label."
   ]
  },
  {
   "cell_type": "markdown",
   "metadata": {},
   "source": [
    "---\n",
    "<a id='task8'></a>\n",
    "### (IMPLEMENTATION): Build a complete classifier "
   ]
  },
  {
   "cell_type": "code",
   "execution_count": 19,
   "metadata": {},
   "outputs": [],
   "source": [
    "# This function should take in RGB image input\n",
    "# Analyze that image using your feature creation code and output a one-hot encoded label\n",
    "def estimate_label(rgb_image):\n",
    "    ## classify the image and output a one-hot encoded label\n",
    "    rgb_copy = np.copy(rgb_image)\n",
    "    hue = get_brightness(rgb_copy,'h')\n",
    "    sat = get_brightness(rgb_copy,'s')\n",
    "    val = get_brightness(rgb_copy,'v')\n",
    "    \n",
    "    guess_hue, confidence_hue = hue['guess']\n",
    "    guess_sat, confidence_sat = sat['guess']\n",
    "    guess_val, confidence_val = val['guess']\n",
    "    \n",
    "    #Do all channels agree?\n",
    "    if guess_hue == guess_sat == guess_val: \n",
    "        prediction = one_hot_encode(guess_hue)\n",
    "    \n",
    "    classifier = {'red':0, 'yellow':0, 'green':0}\n",
    "    #Check the S and V channels as both are reliable for classification; use H channel as a last resort\n",
    "    if (confidence_val > confidence_sat and val[guess_val] > sat[guess_sat]) or (val['sum'] > sat['sum']):\n",
    "        prediction = one_hot_encode(guess_val)\n",
    "    elif (confidence_val < confidence_sat and val[guess_val] < sat[guess_sat]) or (val['sum'] < sat['sum']):\n",
    "        prediction = one_hot_encode(guess_sat)\n",
    "    else:\n",
    "        classifier['red']    = sat['red']    + val['red']\n",
    "        classifier['yellow'] = sat['yellow'] + val['yellow']\n",
    "        classifier['green']  = sat['green']  + val['green']\n",
    "        guess_cumsum = classify(classifier)\n",
    "        if guess_cumsum == guess_sat or guess_hue == guess_sat:\n",
    "            prediction = one_hot_encode(guess_sat)\n",
    "        elif guess_cumsum == guess_val or guess_hue == guess_val:\n",
    "            prediction = one_hot_encode(guess_val)\n",
    "        elif guess_cumsum == guess_hue:\n",
    "            prediction = one_hot_encode(guess_hue)\n",
    "        else:\n",
    "            prediction = one_hot_encode(guess_cumsum)\n",
    "    return prediction"
   ]
  },
  {
   "cell_type": "markdown",
   "metadata": {},
   "source": [
    "## Testing the classifier\n",
    "\n",
    "Here is where we test your classification algorithm using our test set of data that we set aside at the beginning of the notebook! This project will be complete once you've pogrammed a \"good\" classifier.\n",
    "\n",
    "A \"good\" classifier in this case should meet the following criteria (and once it does, feel free to submit your project):\n",
    "1. Get above 90% classification accuracy.\n",
    "2. Never classify a red light as a green light. \n",
    "\n",
    "### Test dataset\n",
    "\n",
    "Below, we load in the test dataset, standardize it using the `standardize` function you defined above, and then **shuffle** it; this ensures that order will not play a role in testing accuracy.\n"
   ]
  },
  {
   "cell_type": "code",
   "execution_count": 20,
   "metadata": {},
   "outputs": [],
   "source": [
    "# Using the load_dataset function in helpers.py\n",
    "# Load test data\n",
    "TEST_IMAGE_LIST = helpers.load_dataset(IMAGE_DIR_TEST)\n",
    "\n",
    "# Standardize the test data\n",
    "STANDARDIZED_TEST_LIST = standardize(TEST_IMAGE_LIST)\n",
    "\n",
    "# Shuffle the standardized test data\n",
    "random.shuffle(STANDARDIZED_TEST_LIST)"
   ]
  },
  {
   "cell_type": "markdown",
   "metadata": {},
   "source": [
    "## Determine the Accuracy\n",
    "\n",
    "Compare the output of your classification algorithm (a.k.a. your \"model\") with the true labels and determine the accuracy.\n",
    "\n",
    "This code stores all the misclassified images, their predicted labels, and their true labels, in a list called `MISCLASSIFIED`. This code is used for testing and *should not be changed*."
   ]
  },
  {
   "cell_type": "code",
   "execution_count": 21,
   "metadata": {},
   "outputs": [
    {
     "name": "stderr",
     "output_type": "stream",
     "text": [
      "/opt/conda/lib/python3.6/site-packages/ipykernel_launcher.py:44: RuntimeWarning: divide by zero encountered in ulong_scalars\n"
     ]
    },
    {
     "name": "stdout",
     "output_type": "stream",
     "text": [
      "Accuracy: 0.9831649831649831\n",
      "Number of misclassified images = 5 out of 297\n"
     ]
    }
   ],
   "source": [
    "# Constructs a list of misclassified images given a list of test images and their labels\n",
    "# This will throw an AssertionError if labels are not standardized (one-hot encoded)\n",
    "\n",
    "def get_misclassified_images(test_images):\n",
    "    # Track misclassified images by placing them into a list\n",
    "    misclassified_images_labels = []\n",
    "\n",
    "    # Iterate through all the test images\n",
    "    # Classify each image and compare to the true label\n",
    "    for image in test_images:\n",
    "\n",
    "        # Get true data\n",
    "        im = image[0]\n",
    "        true_label = image[1]\n",
    "        assert(len(true_label) == 3), \"The true_label is not the expected length (3).\"\n",
    "\n",
    "        # Get predicted label from your classifier\n",
    "        predicted_label = estimate_label(im)\n",
    "        assert(len(predicted_label) == 3), \"The predicted_label is not the expected length (3).\"\n",
    "\n",
    "        # Compare true and predicted labels \n",
    "        if(predicted_label != true_label):\n",
    "            # If these labels are not equal, the image has been misclassified\n",
    "            misclassified_images_labels.append((im, predicted_label, true_label))\n",
    "            \n",
    "    # Return the list of misclassified [image, predicted_label, true_label] values\n",
    "    return misclassified_images_labels\n",
    "\n",
    "\n",
    "# Find all misclassified images in a given test set\n",
    "MISCLASSIFIED = get_misclassified_images(STANDARDIZED_TEST_LIST)\n",
    "\n",
    "# Accuracy calculations\n",
    "total = len(STANDARDIZED_TEST_LIST)\n",
    "num_correct = total - len(MISCLASSIFIED)\n",
    "accuracy = num_correct/total\n",
    "\n",
    "print('Accuracy: ' + str(accuracy))\n",
    "print(\"Number of misclassified images = \" + str(len(MISCLASSIFIED)) +' out of '+ str(total))\n"
   ]
  },
  {
   "cell_type": "markdown",
   "metadata": {},
   "source": [
    "---\n",
    "<a id='task9'></a>\n",
    "### Visualize the misclassified images\n",
    "\n",
    "Visualize some of the images you classified wrong (in the `MISCLASSIFIED` list) and note any qualities that make them difficult to classify. This will help you identify any weaknesses in your classification algorithm."
   ]
  },
  {
   "cell_type": "code",
   "execution_count": 22,
   "metadata": {},
   "outputs": [
    {
     "name": "stdout",
     "output_type": "stream",
     "text": [
      "Real color: [0, 0, 1]; Guess: [1, 0, 0]\n",
      "Real color: [0, 0, 1]; Guess: [1, 0, 0]\n",
      "Real color: [1, 0, 0]; Guess: [0, 1, 0]\n",
      "Real color: [1, 0, 0]; Guess: [0, 1, 0]\n",
      "Real color: [1, 0, 0]; Guess: [0, 1, 0]\n"
     ]
    },
    {
     "data": {
      "image/png": "[encoded data removed]",
      "text/plain": [
       "<matplotlib.figure.Figure at 0x7ff3fde31cf8>"
      ]
     },
     "metadata": {
      "needs_background": "light"
     },
     "output_type": "display_data"
    },
    {
     "data": {
      "image/png": "[encoded data removed]",
      "text/plain": [
       "<matplotlib.figure.Figure at 0x7ff3fe1a7dd8>"
      ]
     },
     "metadata": {
      "needs_background": "light"
     },
     "output_type": "display_data"
    },
    {
     "data": {
      "image/png": "[encoded data removed]",
      "text/plain": [
       "<matplotlib.figure.Figure at 0x7ff3fe090f28>"
      ]
     },
     "metadata": {
      "needs_background": "light"
     },
     "output_type": "display_data"
    },
    {
     "data": {
      "image/png": "[encoded data removed]",
      "text/plain": [
       "<matplotlib.figure.Figure at 0x7ff3fdff2dd8>"
      ]
     },
     "metadata": {
      "needs_background": "light"
     },
     "output_type": "display_data"
    },
    {
     "data": {
      "image/png": "[encoded data removed]",
      "text/plain": [
       "<matplotlib.figure.Figure at 0x7ff3fdf53358>"
      ]
     },
     "metadata": {
      "needs_background": "light"
     },
     "output_type": "display_data"
    }
   ],
   "source": [
    "# Visualize misclassified example(s)\n",
    "#Display an image in the `MISCLASSIFIED` list \n",
    "#Print out its predicted label - to see what the image *was* incorrectly classified as\n",
    "for image in MISCLASSIFIED:\n",
    "    rgb, prediction, label = image\n",
    "\n",
    "        # Convert to HSV\n",
    "    hsv = cv2.cvtColor(rgb, cv2.COLOR_RGB2HSV)\n",
    "    \n",
    "    # HSV channels\n",
    "    h = hsv[:,:,0]\n",
    "    s = hsv[:,:,1]\n",
    "    v = hsv[:,:,2]\n",
    "\n",
    "    print(\"Real color: {}; Guess: {}\".format(label,prediction))\n",
    "    f, (ax1, ax2, ax3, ax4) = plt.subplots(1, 4, figsize=(20,10))\n",
    "    ax1.set_title('Real:{}; Guess:{}'.format(label, prediction))\n",
    "    ax1.imshow(rgb)\n",
    "    ax2.set_title('H channel')\n",
    "    ax2.imshow(h, cmap='gray')\n",
    "    ax3.set_title('S channel')\n",
    "    ax3.imshow(s, cmap='gray')\n",
    "    ax4.set_title('V channel')\n",
    "    ax4.imshow(v, cmap='gray')\n",
    "plt.show()"
   ]
  },
  {
   "cell_type": "markdown",
   "metadata": {},
   "source": [
    "---\n",
    "<a id='question2'></a>\n",
    "## (Question 2): After visualizing these misclassifications, what weaknesses do you think your classification algorithm has? Please note at least two."
   ]
  },
  {
   "cell_type": "markdown",
   "metadata": {},
   "source": [
    "**Answer:** Image processing didn't crop out enough noise on some of the edges of the images. H channel was notoriously unreliable. Also, the image processing should have used different techniques for each of the three HSV channels in order to maximize the accuracy. "
   ]
  },
  {
   "cell_type": "markdown",
   "metadata": {},
   "source": [
    "## Test if you classify any red lights as green\n",
    "\n",
    "**To pass this project, you must not classify any red lights as green!** Classifying red lights as green would cause a car to drive through a red traffic light, so this red-as-green error is very dangerous in the real world. \n",
    "\n",
    "The code below lets you test to see if you've misclassified any red lights as green in the test set. **This test assumes that `MISCLASSIFIED` is a list of tuples with the order: [misclassified_image, predicted_label, true_label].**\n",
    "\n",
    "Note: this is not an all encompassing test, but its a good indicator that, if you pass, you are on the right track! This iterates through your list of misclassified examples and checks to see if any red traffic lights have been mistakenly labelled [0, 1, 0] (green)."
   ]
  },
  {
   "cell_type": "code",
   "execution_count": 23,
   "metadata": {},
   "outputs": [
    {
     "data": {
      "text/markdown": [
       "**<span style=\"color: green;\">TEST PASSED</span>**"
      ],
      "text/plain": [
       "<IPython.core.display.Markdown object>"
      ]
     },
     "metadata": {},
     "output_type": "display_data"
    }
   ],
   "source": [
    "# Importing the tests\n",
    "import test_functions\n",
    "tests = test_functions.Tests()\n",
    "\n",
    "if(len(MISCLASSIFIED) > 0):\n",
    "    # Test code for one_hot_encode function\n",
    "    tests.test_red_as_green(MISCLASSIFIED)\n",
    "else:\n",
    "    print(\"MISCLASSIFIED may not have been populated with images.\")\n"
   ]
  },
  {
   "cell_type": "markdown",
   "metadata": {},
   "source": [
    "# 5. Improve your algorithm!\n",
    "\n",
    "**Submit your project after you have completed all implementations, answered all questions, AND when you've met the two criteria:**\n",
    "1. Greater than 90% accuracy classification\n",
    "2. No red lights classified as green\n",
    "\n",
    "If you did not meet these requirements (which is common on the first attempt!), revisit your algorithm and tweak it to improve light recognition -- this could mean changing the brightness feature, performing some background subtraction, or adding another feature!\n",
    "\n",
    "---"
   ]
  },
  {
   "cell_type": "markdown",
   "metadata": {
    "collapsed": true
   },
   "source": [
    "### Going Further (Optional Challenges)\n",
    "\n",
    "If you found this challenge easy, I suggest you go above and beyond! Here are a couple **optional** (meaning you do not need to implement these to submit and pass the project) suggestions:\n",
    "* (Optional) Aim for >95% classification accuracy.\n",
    "* (Optional) Some lights are in the shape of arrows; further classify the lights as round or arrow-shaped.\n",
    "* (Optional) Add another feature and aim for as close to 100% accuracy as you can get!"
   ]
  }
 ],
 "metadata": {
  "anaconda-cloud": {},
  "kernelspec": {
   "display_name": "Python 3",
   "language": "python",
   "name": "python3"
  },
  "language_info": {
   "codemirror_mode": {
    "name": "ipython",
    "version": 3
   },
   "file_extension": ".py",
   "mimetype": "text/x-python",
   "name": "python",
   "nbconvert_exporter": "python",
   "pygments_lexer": "ipython3",
   "version": "3.6.3"
  }
 },
 "nbformat": 4,
 "nbformat_minor": 2
}
